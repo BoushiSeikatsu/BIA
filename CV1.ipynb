{
 "cells": [
  {
   "cell_type": "code",
   "execution_count": 1,
   "id": "96295878-53b2-4878-bca2-7b26e82bfd1e",
   "metadata": {
    "tags": []
   },
   "outputs": [],
   "source": [
    "import math"
   ]
  },
  {
   "cell_type": "code",
   "execution_count": 12,
   "id": "8feb7ed6-ef96-472f-a919-5c41da87beb7",
   "metadata": {
    "tags": []
   },
   "outputs": [],
   "source": [
    "#x is point in graph, that has d dimensions\n",
    "def Ackley(x):\n",
    "    a = 20\n",
    "    b = 0.2\n",
    "    c = 2*math.pi\n",
    "    d = len(x)\n",
    "    squareSum = 0\n",
    "    cosSum = 0\n",
    "    for i in x:\n",
    "        squareSum += pow(i,2)\n",
    "    for i in x:\n",
    "        cosSum += math.cos(c*i)\n",
    "    return -a * math.exp(-b * math.sqrt(1/d*squareSum)) - math.exp(1/d * cosSum) + a + math.exp(1)\n",
    "\n",
    "def Rastrigin(x):\n",
    "    d = len(x)\n",
    "    totalSum = 0\n",
    "    for i in x:\n",
    "        totalSum += pow(i,2) - 10 * math.cos(2*math.pi*i)\n",
    "    return 10*d*totalSum\n",
    "\n",
    "def Sphere(x):\n",
    "    totalSum = 0\n",
    "    for i in x:\n",
    "        totalSum += pow(i,2)\n",
    "    return totalSum\n",
    "\n",
    "def Rosenbrock(x):\n",
    "    totalSum = 0\n",
    "    for i in range(0, len(x)-1):\n",
    "        totalSum += 100 * pow(x[i+1] - pow(x[i],2),2) + pow(x[i] - 1,2)\n",
    "    return totalSum\n",
    "\n",
    "def Griewank(x):\n",
    "    totalSum = 0\n",
    "    totalMul = 0\n",
    "    k = 1\n",
    "    for i in x:\n",
    "        totalSum += pow(i,2)/4000\n",
    "        totalMul *= math.cos(i/math.sqrt(k))\n",
    "        k += 1\n",
    "    return totalSum - totalMul + 1"
   ]
  },
  {
   "cell_type": "code",
   "execution_count": 13,
   "id": "4c7b501c-f8d2-4531-aec9-555199f5a18f",
   "metadata": {
    "tags": []
   },
   "outputs": [
    {
     "data": {
      "text/plain": [
       "6"
      ]
     },
     "execution_count": 13,
     "metadata": {},
     "output_type": "execute_result"
    }
   ],
   "source": [
    "Sphere((1,1,2))"
   ]
  },
  {
   "cell_type": "code",
   "execution_count": null,
   "id": "24415e9e-4c28-4125-b745-b9dc0c2d6c86",
   "metadata": {},
   "outputs": [],
   "source": []
  }
 ],
 "metadata": {
  "kernelspec": {
   "display_name": "Python 3 (ipykernel)",
   "language": "python",
   "name": "python3"
  },
  "language_info": {
   "codemirror_mode": {
    "name": "ipython",
    "version": 3
   },
   "file_extension": ".py",
   "mimetype": "text/x-python",
   "name": "python",
   "nbconvert_exporter": "python",
   "pygments_lexer": "ipython3",
   "version": "3.10.9"
  }
 },
 "nbformat": 4,
 "nbformat_minor": 5
}
