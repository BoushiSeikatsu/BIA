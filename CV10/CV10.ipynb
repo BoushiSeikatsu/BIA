{
 "cells": [
  {
   "cell_type": "code",
   "execution_count": null,
   "metadata": {
    "vscode": {
     "languageId": "plaintext"
    }
   },
   "outputs": [],
   "source": [
    "import sys\n",
    "\n",
    "# setting path\n",
    "sys.path.append('../')\n",
    "import TestFunctions as tf\n",
    "#import TestFunctions as tf\n",
    "import numpy as np\n",
    "from matplotlib import pyplot as plt\n",
    "from mpl_toolkits.mplot3d import Axes3D\n",
    "from importlib import reload\n",
    "import random\n",
    "import time\n",
    "import matplotlib.animation as animation\n",
    "import math\n",
    "import copy"
   ]
  },
  {
   "cell_type": "code",
   "execution_count": null,
   "metadata": {
    "vscode": {
     "languageId": "plaintext"
    }
   },
   "outputs": [],
   "source": [
    "class Solution:\n",
    "    def __init__(self, dimension, lower_bound, upper_bound):\n",
    "        self.d = dimension\n",
    "        self.lower = lower_bound # we will use the same bounds for all parameters\n",
    "        self.upper = upper_bound\n",
    "        self.params = np.zeros(self.d) #solution parameters\n",
    "        self.f = np.inf # objective function evaluation"
   ]
  }
 ],
 "metadata": {
  "language_info": {
   "name": "python"
  }
 },
 "nbformat": 4,
 "nbformat_minor": 2
}
