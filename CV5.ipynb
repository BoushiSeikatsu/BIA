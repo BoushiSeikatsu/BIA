{
 "cells": [
  {
   "cell_type": "code",
   "execution_count": 17,
   "metadata": {},
   "outputs": [],
   "source": [
    "import numpy as np\n",
    "import pandas as pd \n",
    "import random\n",
    "import TestFunctions as tf"
   ]
  },
  {
   "cell_type": "code",
   "execution_count": 14,
   "metadata": {},
   "outputs": [],
   "source": [
    "class Solution:\n",
    "    def __init__(self, dimension, lower_bound, upper_bound):\n",
    "        self.d = dimension\n",
    "        self.lower = lower_bound # we will use the same bounds for all parameters\n",
    "        self.upper = upper_bound\n",
    "        self.params = np.zeros(self.d) #solution parameters\n",
    "        self.f = np.inf # objective function evaluation"
   ]
  },
  {
   "cell_type": "code",
   "execution_count": 26,
   "metadata": {},
   "outputs": [],
   "source": [
    "def generatePopulation(solution : Solution, size):\n",
    "    population = []\n",
    "    for _ in range(0, size):\n",
    "        for i in range(0, len(solution.params)):\n",
    "            new_solution = Solution(len(solution.params), solution.lower, solution.upper)\n",
    "            new_solution.params[i] = random.uniform(solution.lower, solution.upper)\n",
    "        population.append(new_solution)\n",
    "    return population\n",
    "\n",
    "def evaluateAll(population, func):\n",
    "    for solution in population:\n",
    "        z = func(solution.params)\n",
    "        solution.f = z\n",
    "    return population\n",
    "\n",
    "def DifferentialEvolution(solution, func):\n",
    "    for i in range(0,len(solution.params)):\n",
    "        solution.params[i] = random.uniform(solution.lower, solution.upper) # Generate random coordinates for the first time\n",
    "    #pop = Generate NP random individuals (you can use the class Solution mentioned in Exercise 1)\n",
    "    population = generatePopulation(solution, 20)\n",
    "    population = evaluateAll(population, func)\n",
    "    g = 0\n",
    "    g_maxim = 200\n",
    "    F = 0.8\n",
    "    CR = 0.9\n",
    "    progressTracker = []\n",
    "    while g < g_maxim :\n",
    "        new_popuplation = list(np.copy(population)) # new generation\n",
    "        for i in range(0, len(population)): # x is also denoted as a target vector\n",
    "            indices = list(range(len(population)))\n",
    "            indices.remove(i)\n",
    "            r1, r2, r3 = np.random.choice(indices, 3, replace=False)\n",
    "            mutation = (population[r1].params - population[r2].params)*F + population[r3].params # mutation vector. TAKE CARE FOR BOUNDARIES!\n",
    "            mutation = np.clip(mutation, solution.lower, solution.upper)\n",
    "            u = np.zeros(len(solution.params)) # trial vector\n",
    "            j_rnd = np.random.randint(0, len(solution.params))\n",
    "        for j in range(0, len(solution.params)):\n",
    "            if np.random.uniform() < CR or j == j_rnd:\n",
    "                u[j] = mutation[j] # at least 1 parameter should be from a mutation vector v\n",
    "            else:\n",
    "                u[j] = population[i].params[j]\n",
    "        #f_u = Evaluate trial vector u\n",
    "        f_u = func(u)\n",
    "        if f_u <= population[i].f: # We always accept a solution with the same fitness as a target vector\n",
    "            new_x = Solution(len(solution.params), solution.lower, solution.upper)\n",
    "            new_x.params = u\n",
    "            new_x.f = f_u\n",
    "            new_popuplation[i] = new_x\n",
    "            population = new_popuplation\n",
    "            progressTracker.append((new_x.params.copy()[0], new_x.params.copy()[1], f_u))\n",
    "        g += 1\n",
    "    return progressTracker"
   ]
  },
  {
   "cell_type": "code",
   "execution_count": 27,
   "metadata": {},
   "outputs": [],
   "source": [
    "funcs = tf.getAllFunctions()\n",
    "x = Solution(2,funcs[0][1],funcs[0][0])\n",
    "func = funcs[0][4]\n",
    "result = DifferentialEvolution(x,func)\n",
    "#x = result[0]\n",
    "#func = funcs[0]\n",
    "#params = result[1]\n",
    "#plot3DWithAnimation(func[0],func[1],func[2],func[3],func[4],params,'SphereAnnealing.gif')"
   ]
  },
  {
   "cell_type": "code",
   "execution_count": null,
   "metadata": {},
   "outputs": [
    {
     "data": {
      "text/plain": [
       "[(0.0, 0.7302925186180627, 0.5333271627495134),\n",
       " (0.0, -0.7290610001278468, 0.5315299419074162),\n",
       " (0.0, -0.09410728567941273, 0.008856181217946601),\n",
       " (0.0, -0.09410728567941273, 0.008856181217946601),\n",
       " (0.0, 0.05714294288909283, 0.0032653159220261247),\n",
       " (0.0, 0.05714294288909283, 0.0032653159220261247),\n",
       " (0.0, -0.04525405856071951, 0.002047929816217031),\n",
       " (0.0, -0.04525405856071951, 0.002047929816217031),\n",
       " (0.0, -0.04525405856071951, 0.002047929816217031)]"
      ]
     },
     "execution_count": 28,
     "metadata": {},
     "output_type": "execute_result"
    }
   ],
   "source": [
    "result # Clipping is sus"
   ]
  },
  {
   "cell_type": "code",
   "execution_count": 3,
   "metadata": {},
   "outputs": [
    {
     "name": "stdout",
     "output_type": "stream",
     "text": [
      "Best solution: [ 2.84997641e-28  7.09321296e-28 -5.43573989e-28 -1.38683116e-29\n",
      " -9.11068238e-28]\n",
      "Best score: 1.7100707018820503e-54\n"
     ]
    }
   ],
   "source": [
    "import numpy as np\n",
    "\n",
    "def differential_evolution(func, bounds, max_iter=1000, pop_size=20, F=0.8, CR=0.9):\n",
    "    \"\"\"\n",
    "    Differential Evolution algorithm for optimization.\n",
    "    \n",
    "    Parameters:\n",
    "    - func: the objective function to minimize\n",
    "    - bounds: list of tuples, each containing the min and max bounds for each dimension\n",
    "    - max_iter: maximum number of iterations\n",
    "    - pop_size: population size\n",
    "    - F: differential weight (mutation factor)\n",
    "    - CR: crossover probability\n",
    "    \n",
    "    Returns:\n",
    "    - best_solution: best solution found\n",
    "    - best_score: objective function value of the best solution\n",
    "    \"\"\"\n",
    "    \n",
    "    # Initialize population with random values within the given bounds\n",
    "    dimensions = len(bounds)\n",
    "    pop = np.random.rand(pop_size, dimensions)\n",
    "    for i in range(dimensions):\n",
    "        pop[:, i] = bounds[i][0] + pop[:, i] * (bounds[i][1] - bounds[i][0])\n",
    "    \n",
    "    # Evaluate initial population\n",
    "    fitness = np.apply_along_axis(func, 1, pop)\n",
    "    best_idx = np.argmin(fitness)\n",
    "    best_solution = pop[best_idx]\n",
    "    best_score = fitness[best_idx]\n",
    "    \n",
    "    # Evolutionary loop\n",
    "    for _ in range(max_iter):\n",
    "        for i in range(pop_size):\n",
    "            # Mutation: Select 3 random distinct individuals from the population (excluding i)\n",
    "            indices = list(range(pop_size))\n",
    "            indices.remove(i)\n",
    "            a, b, c = pop[np.random.choice(indices, 3, replace=False)]\n",
    "            \n",
    "            # Create mutant vector\n",
    "            mutant = a + F * (b - c)\n",
    "            \n",
    "            # Ensure mutant is within bounds\n",
    "            mutant = np.clip(mutant, [bound[0] for bound in bounds], [bound[1] for bound in bounds])\n",
    "            \n",
    "            # Crossover\n",
    "            crossover = np.random.rand(dimensions) < CR\n",
    "            if not np.any(crossover):  # Ensure at least one dimension is selected for crossover\n",
    "                crossover[np.random.randint(0, dimensions)] = True\n",
    "            trial = np.where(crossover, mutant, pop[i])\n",
    "            \n",
    "            # Selection\n",
    "            trial_score = func(trial)\n",
    "            if trial_score < fitness[i]:\n",
    "                pop[i] = trial\n",
    "                fitness[i] = trial_score\n",
    "                \n",
    "                # Update best solution\n",
    "                if trial_score < best_score:\n",
    "                    best_solution = trial\n",
    "                    best_score = trial_score\n",
    "    \n",
    "    return best_solution, best_score\n",
    "\n",
    "# Example usage:\n",
    "# Define an objective function\n",
    "def objective(x):\n",
    "    return np.sum(x**2)  # Sphere function (minima at 0)\n",
    "\n",
    "# Define bounds for each dimension (e.g., [-5, 5] for each of 5 dimensions)\n",
    "bounds = [(-5, 5)] * 5\n",
    "\n",
    "# Run Differential Evolution\n",
    "best_solution, best_score = differential_evolution(objective, bounds)\n",
    "print(\"Best solution:\", best_solution)\n",
    "print(\"Best score:\", best_score)\n"
   ]
  },
  {
   "cell_type": "code",
   "execution_count": 8,
   "metadata": {},
   "outputs": [],
   "source": [
    "test = [0,2,3,4,5]\n",
    "r1, r2, r3 = np.random.choice(list(range(0,5)), 3, replace=False)"
   ]
  },
  {
   "cell_type": "code",
   "execution_count": 13,
   "metadata": {},
   "outputs": [
    {
     "name": "stdout",
     "output_type": "stream",
     "text": [
      "[2. 5. 2.]\n"
     ]
    }
   ],
   "source": [
    "a = [2, 5.4, 1]\n",
    "clipped = np.clip(a, 2, 5)\n",
    "print(clipped)"
   ]
  },
  {
   "cell_type": "code",
   "execution_count": null,
   "metadata": {},
   "outputs": [],
   "source": []
  }
 ],
 "metadata": {
  "kernelspec": {
   "display_name": "base",
   "language": "python",
   "name": "python3"
  },
  "language_info": {
   "codemirror_mode": {
    "name": "ipython",
    "version": 3
   },
   "file_extension": ".py",
   "mimetype": "text/x-python",
   "name": "python",
   "nbconvert_exporter": "python",
   "pygments_lexer": "ipython3",
   "version": "3.10.9"
  }
 },
 "nbformat": 4,
 "nbformat_minor": 2
}
