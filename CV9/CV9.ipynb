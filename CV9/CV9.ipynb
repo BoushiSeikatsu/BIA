{
 "cells": [
  {
   "cell_type": "code",
   "execution_count": null,
   "metadata": {},
   "outputs": [],
   "source": [
    "import sys\n",
    "\n",
    "# setting path\n",
    "sys.path.append('../')\n",
    "import TestFunctions as tf\n",
    "#import TestFunctions as tf\n",
    "import numpy as np\n",
    "from matplotlib import pyplot as plt\n",
    "from mpl_toolkits.mplot3d import Axes3D\n",
    "from importlib import reload\n",
    "import random\n",
    "import time\n",
    "import matplotlib.animation as animation\n",
    "import math"
   ]
  },
  {
   "cell_type": "code",
   "execution_count": 1,
   "metadata": {},
   "outputs": [],
   "source": [
    "class Solution:\n",
    "    def __init__(self, dimension, lower_bound, upper_bound):\n",
    "        self.d = dimension\n",
    "        self.lower = lower_bound # we will use the same bounds for all parameters\n",
    "        self.upper = upper_bound\n",
    "        self.params = np.zeros(self.d) #solution parameters\n",
    "        self.f = np.inf # objective function evaluation"
   ]
  },
  {
   "cell_type": "code",
   "execution_count": null,
   "metadata": {},
   "outputs": [],
   "source": [
    "def generatePopulation(solution : Solution, size):\n",
    "    population = []\n",
    "    for _ in range(0, size):\n",
    "        new_solution = Solution(len(solution.params), solution.lower, solution.upper) # Generate solution\n",
    "        for i in range(0, len(solution.params)): \n",
    "            new_solution.params[i] = random.uniform(solution.lower, solution.upper) # Generate its params\n",
    "            #print(new_solution.params)\n",
    "        population.append(new_solution)\n",
    "    return population\n",
    "\n",
    "def Fireflies(solution, func):\n",
    "    #Initialize a population of fireflies\n",
    "    n_population = 20\n",
    "    population = generatePopulation(solution, n_population)\n",
    "    #Set control parameters\n",
    "    #t = 0\n",
    "\n",
    "    #While t < MaxGeneration:\n",
    "        #for i in range(n):\n",
    "            #for j in range(n):\n",
    "                #Light intensity li at xi is determined by f(xi)\n",
    "                #if lj > li\n",
    "                    #Move firefly i towards j\n",
    "                #Attractiveness varies with distance\n",
    "                #Evaluate new solutions and update light intensity\n",
    "\n",
    "        #Rank the fireflies and find the current best firefly\n",
    "    #t += 1"
   ]
  }
 ],
 "metadata": {
  "kernelspec": {
   "display_name": "base",
   "language": "python",
   "name": "python3"
  },
  "language_info": {
   "codemirror_mode": {
    "name": "ipython",
    "version": 3
   },
   "file_extension": ".py",
   "mimetype": "text/x-python",
   "name": "python",
   "nbconvert_exporter": "python",
   "pygments_lexer": "ipython3",
   "version": "3.12.4"
  }
 },
 "nbformat": 4,
 "nbformat_minor": 2
}
